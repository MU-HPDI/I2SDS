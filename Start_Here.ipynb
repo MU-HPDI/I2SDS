{
 "cells": [
  {
   "cell_type": "markdown",
   "metadata": {},
   "source": [
    "# Welcome to Introduction to Spatial Data Science\n",
    "\n",
    "The is the first course in the Spatial Computing Center of Excellence program.\n",
    "The objective of the course is to give students a broad overview of the various aspects of data science through a **data science project lifecycle**, such as accessing, cleansing, modeling, visualizing, and interpreting data. \n",
    "Students will be introduced briefly to spatial data to understand some key differences from regular data.\n",
    "Students will have hands on training in Python and other open-source analytic tools. \n",
    "\n",
    "-----\n"
   ]
  },
  {
   "cell_type": "markdown",
   "metadata": {},
   "source": [
    "\n",
    "### Course Module Schedule\n",
    "\n",
    "1. [Introduction to Data Science with Python](./modules/module1/Schedule.ipynb)\n",
    "1. [Data Science with R and more Data Exploration](./modules/module2/Schedule.ipynb)\n",
    "1. [Data Cleaning and Reshaping](./modules/module3/Schedule.ipynb)\n",
    "1. [Database Technologies](./modules/module4/Schedule.ipynb)\n",
    "1. [Introduction to Visualizations](./modules/module5/Schedule.ipynb)\n",
    "1. [Introduction to Spatial Data](./modules/spatial/Schedule.ipynb)\n",
    "1. [Basic Modeling 1](./modules/module6/Schedule.ipynb)\n",
    "1. [Basic Modeling 2](./modules/module7/Schedule.ipynb)\n",
    "1. [Story Development](./modules/module8/Schedule.ipynb)\n",
    "\n",
    "-----"
   ]
  },
  {
   "cell_type": "markdown",
   "metadata": {},
   "source": [
    "### Module Workflows\n",
    "\n",
    "Each module is a building block towards spatial data science with a specific topic focus.\n",
    "In the modules, you will find the following types of activities:\n",
    "* Readings\n",
    "* Videos\n",
    "* Labs (typically fully working and functional examples of computer programming for data science)\n",
    "* Practices (Scaffolded activities that allow you to draw from the readings, videos, and lab to complete code segments)\n",
    "* Exercises (Optional, non-scaffolded free form activities to test your abilities)\n",
    "\n",
    "### Technologies\n",
    "- Python Programming\n",
    "    - `numpy` - programming with arrays\n",
    "    - `pandas` - data frame functionality\n",
    "- R Statistical Programming\n",
    "    - `tidyverse` packages - data science toolkit \n",
    "- Introduction to SQL\n",
    "\n",
    "-----"
   ]
  },
  {
   "cell_type": "markdown",
   "metadata": {},
   "source": [
    "\n",
    "-----\n",
    "\n",
    "### The Ethic of Mutual Aid\n",
    "\n",
    "In each module it is important to ask and answer questions. \n",
    "All students should ask. Everyone should try to answer at least once. \n",
    "We learn by solving our own problems and helping others solve theirs.\n",
    "Social learning theory helps to explain the mechanics of how communicating with others aids learning.\n",
    "It suggests that people learn from one another, via observation, imitation, and modeling. \n",
    "The theory has often been called a bridge between behaviorist and cognitive learning theories because it encompasses attention, memory, and motivation. \n",
    "If you think about the most rewarding learning experiences in your life, \n",
    "its likely you will recall a time when you struggled, sought help, provided help and ultimately achieved your aims. \n",
    "And probably helped others achieve theirs.\n",
    "\n",
    "The instructors and TAs will help the discussions and mutual aid stay on track.\n",
    "We look forward to working with all of you!\n",
    "\n",
    "Mutual aid is a place to discuss the topic and issue you are having. It is not a place to post code, working or not for feedback or solutions. Posting code is counterproductive  in this type of Mutual Aid environment. \n",
    "\n",
    "-----\n",
    "\n",
    "### Resources\n",
    "\n",
    "Each module will have reading links and resources. Please consult the weekly Schedule notebook for details and modular particulars. "
   ]
  },
  {
   "cell_type": "markdown",
   "metadata": {},
   "source": [
    "---"
   ]
  }
 ],
 "metadata": {
  "kernelspec": {
   "display_name": "Python 3",
   "language": "python",
   "name": "python3"
  },
  "language_info": {
   "codemirror_mode": {
    "name": "ipython",
    "version": 3
   },
   "file_extension": ".py",
   "mimetype": "text/x-python",
   "name": "python",
   "nbconvert_exporter": "python",
   "pygments_lexer": "ipython3",
   "version": "3.7.3"
  }
 },
 "nbformat": 4,
 "nbformat_minor": 2
}
