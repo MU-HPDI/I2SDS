{
 "cells": [
  {
   "cell_type": "markdown",
   "metadata": {},
   "source": [
    "# Spatial Data Module\n",
    "\n",
    "This is a light, informational module to seed the ideas around spatial data as a contrast to flat data (tabular data files or database tables).\n",
    "The follow on course, Geospatial Data Engineering, will revisit these concepts and dive deeper into (geo)spatial data and the associated operations and manipulations."
   ]
  },
  {
   "cell_type": "markdown",
   "metadata": {},
   "source": [
    "## Topics covered\n",
    "\n",
    "  * What is spatial data?\n",
    "  * What is geospatial data?\n",
    "  * Map projections\n",
    "  * Reference systems"
   ]
  },
  {
   "cell_type": "markdown",
   "metadata": {},
   "source": [
    "## Readings\n",
    "\n",
    "* [Overview of Spatial Data](./SpatialDataOverview.ipynb) The purpose of this reading is to give an overveiw of the area of spatial and geospatial data. \n",
    "* [Chapter 1. An Overview of Geospatial Analytics](https://www.safaribooksonline.com/library/view/geospatial-data-and/9781491984314/ch01.html) The purpose of this reading is to estabilish a breif introduction of Geospatial data\n",
    "\n",
    "## Videos (after readings)\n",
    "\n",
    " * [Why all world maps are wrong](https://youtu.be/kIID5FDi2JQ)\n",
    "   * Thanks to Ian Thompson (MU DSA, Fall 2021)\n"
   ]
  },
  {
   "cell_type": "markdown",
   "metadata": {},
   "source": [
    "## Discussions\n",
    "\n",
    "Please see the Canvas Site for the course for module discussoin topics, mutual aid, and virtual office hours."
   ]
  },
  {
   "cell_type": "markdown",
   "metadata": {},
   "source": [
    "## Labs\n",
    "\n",
    "The goal of the labs this module are to get your farmiliar with basic mapping concepts and to apply the concepts using python.\n",
    "\n",
    "  * [Projections](./labs/Projections.ipynb)\n",
    "  * [Reference Systems](./labs/ReferenceSystems.ipynb)\n",
    "  * [Geospatial Data](./labs/Data.ipynb)\n"
   ]
  },
  {
   "cell_type": "markdown",
   "metadata": {},
   "source": [
    "## Congratulations, you have completed the learning activities for this module!"
   ]
  }
 ],
 "metadata": {
  "kernelspec": {
   "display_name": "Python 3",
   "language": "python",
   "name": "python3"
  },
  "language_info": {
   "codemirror_mode": {
    "name": "ipython",
    "version": 3
   },
   "file_extension": ".py",
   "mimetype": "text/x-python",
   "name": "python",
   "nbconvert_exporter": "python",
   "pygments_lexer": "ipython3",
   "version": "3.7.3"
  }
 },
 "nbformat": 4,
 "nbformat_minor": 2
}
