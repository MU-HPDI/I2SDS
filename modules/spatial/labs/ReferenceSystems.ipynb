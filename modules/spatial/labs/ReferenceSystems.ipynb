{
 "cells": [
  {
   "cell_type": "markdown",
   "metadata": {},
   "source": [
    "## Module 1: Reference Systems\n",
    "In this lab you will learn spatial attributes that are needed to work with spatial data including: Coordinate Reference Systems (CRS), extents, and spatial resolution.\n",
    "\n",
    "A spatial reference system (SRS) or coordinate reference system (CRS) is a coordinate-based local, regional or global system used to locate geographical entities. Spatial reference systems are defined by the Open Geospatial Consortium's (OGC's) Simple feature access using well-known text, and support has been implemented by several standards-based geographic information systems. Spatial reference systems can be referred to using a SRID integer, including EPSG codes defined by the International Association of Oil and Gas Producers. It is specified in ISO 19111:2007 Geographic information—Spatial referencing by coordinates, also published as OGC Abstract Specification. (From Wikipedia)"
   ]
  },
  {
   "cell_type": "markdown",
   "metadata": {},
   "source": [
    "## Reference Systems\n",
    "With the help of coordinate reference systems every place on the earth can be specified by a set of three numbers, called coordinates. In general, CRS can be divided into projected coordinate reference systems (also called Cartesian or rectangular coordinate reference systems) and geographic coordinate reference systems.\n",
    "To define the location of something a coordinate system is often used. This system consists of an X value, a Y value (and sometimes Z axes, located within a 2 (or more) -dimensional space.             \n",
    "\n",
    "\n",
    "![CRS](../images/CRS.png)\n"
   ]
  },
  {
   "cell_type": "markdown",
   "metadata": {},
   "source": [
    "## The Components of a CRS\n",
    "The coordinate reference system is made up of several key components:\n",
    "\n",
    "* Coordinate System: the X, Y grid upon which our data is overlaid and how we define where a point is located in space.\n",
    "* Horizontal and vertical units: The units used to define the grid along the x, y (and z) axis.\n",
    "* Datum: A modeled version of the shape of the earth which defines the origin used to place the coordinate system in space. We will explain this further, below.\n",
    "* Projection Information: the mathematical equation used to flatten objects that are on a round surface (e.g. the earth) so we can view them on a flat surface (e.g. our computer screens or a paper map)."
   ]
  },
  {
   "cell_type": "markdown",
   "metadata": {},
   "source": [
    "## Commonly used coordinate reference systems\n",
    "\n",
    "ESPG 4326 - GPS\n",
    "\n",
    "4326 is the most common spatial reference for storing / referencing data across the entire world. It serves as the default for both the PostGIS spatial database and the GeoJSON standard. It is also used by default in most web mapping libraries.\n",
    "\n",
    "Because of its use in GPS, 4326 is generally assumed to be the spatial reference when talking about \"latitude\" or \"longitude\".\n",
    "\n",
    "### NOTE: For new data scienctists, it is important to point out that the common use of the term Lat-Long pair is really describing the Y-coordinate & X-coordinate pairing.  It is backward to most uses of x-y coordinate thinking...\n",
    "\n",
    "\n",
    "ESPG 3857 - Web Mercator\n",
    "\n",
    "The Web Mercator coordinate reference system is the default in most web mapping libraries. Web Mercator preserves a consistent direction and north is always \"up\" on a Web Mercator map. Angles are also depicted accurately, so a 90-degree turn on a Web Mercator map will actually look like a right angle. That said, the projection distorts both shape and size as distance from the equator increases.\n",
    "\n",
    "Web Mercator is ideal for generating map tiles since it will project the world into a square that can be subdivided evenly across zoom levels. For example, one tile at zoom level 1, four tiles at zoom level 2 and so on."
   ]
  },
  {
   "cell_type": "markdown",
   "metadata": {},
   "source": [
    "In the example below, a Geographic CRS is used where the units are degrees and the coordinate system is Latitude and Longitude with the origin being the location where the equator meets the central meridian on the globe (0,0)"
   ]
  },
  {
   "cell_type": "code",
   "execution_count": null,
   "metadata": {},
   "outputs": [],
   "source": [
    "import numpy as np\n",
    "import matplotlib.pyplot as plt\n",
    "from mpl_toolkits.basemap import Basemap\n",
    "%matplotlib inline"
   ]
  },
  {
   "cell_type": "code",
   "execution_count": null,
   "metadata": {},
   "outputs": [],
   "source": [
    "m = Basemap(projection='cyl',llcrnrlat=-90,urcrnrlat=90,\\\n",
    "            llcrnrlon=-180,urcrnrlon=180,resolution='c')\n",
    "m.drawcoastlines()\n",
    "m.fillcontinents(color='black',lake_color='aqua')\n",
    "\n",
    "m.drawparallels(np.arange(-90.,91.,30.))\n",
    "m.drawmeridians(np.arange(-180.,181.,60.))\n",
    "m.drawmapboundary(fill_color='aqua')\n",
    "\n",
    "plt.title(\"Global Map: Equidistant Cylindrical Projection \\n Units: Degrees - Latitudes/Longitudes\")\n",
    "plt.xticks([-180,-100,0,100,180])\n",
    "plt.yticks([-90,-50,0,50,90])\n",
    "plt.xlabel('Longitude (Degrees)')\n",
    "plt.ylabel('Latitude (Degrees)')\n",
    "plt.show()"
   ]
  },
  {
   "cell_type": "markdown",
   "metadata": {},
   "source": [
    "We can add three coordinate locations to our map. Note that the UNITS are in decimal degrees (latitude, longitude):\n",
    "\n",
    "* Boulder, Colorado: 40.0274, -105.2519\n",
    "* Oslo, Norway: 59.9500, 10.7500\n",
    "* Mallorca, Spain: 39.6167, 2.9833\n",
    "\n",
    "### Note: You will probably run across coordinate units in other forms (Decimal minutes, decimal seconds, etc.) that you may need to mathematically convert to decimal degrees.  As well, the coordiantes for Lat and Long depend heavily on the positive or negative signs in order to place htem in the correct hemisphere for mapping.\n",
    "\n",
    "Let’s create a second map with the locations overlaid on top of the continental boundary layer."
   ]
  },
  {
   "cell_type": "code",
   "execution_count": null,
   "metadata": {},
   "outputs": [],
   "source": [
    "m = Basemap(projection='cyl',llcrnrlat=-90,urcrnrlat=90,\\\n",
    "            llcrnrlon=-180,urcrnrlon=180,resolution='c')\n",
    "\n",
    "m.drawcoastlines()\n",
    "m.fillcontinents(color='black',lake_color='aqua', zorder = 1)\n",
    "\n",
    "m.drawparallels(np.arange(-90.,91.,30.))\n",
    "m.drawmeridians(np.arange(-180.,181.,60.))\n",
    "m.drawmapboundary(fill_color='aqua', zorder=0)\n",
    "\n",
    "# Add three coordinate locations to our map\n",
    "# Boulder, Colorado:  40.0274, -105.2519\n",
    "# Oslo, Norway: 59.9500, 10.7500\n",
    "# Mallorca, Spain: 39.6167, 2.9833\n",
    "lats = [40.0274, 59.9500, 39.6167]\n",
    "lons = [-105.2519,10.7500,2.9833]\n",
    "plt.scatter(lons,lats,s=100, c='red', zorder=2)\n",
    "\n",
    "plt.title(\"Global Map: Equidistant Cylindrical Projection \\n Units: Degrees - Latitudes/Longitudes\")\n",
    "plt.xticks([-180,-100,0,100,180])\n",
    "plt.yticks([-90,-50,0,50,90])\n",
    "plt.xlabel('Longitude (Degrees)')\n",
    "plt.ylabel('Latitude (Degrees)')\n",
    "\n",
    "plt.show()"
   ]
  },
  {
   "cell_type": "markdown",
   "metadata": {},
   "source": [
    "## Geographic CRS - The Good & The Less Good\n",
    "Geographic coordinate systems in decimal degrees are helpful when we need to locate places on the Earth. However, latitude and longitude locations are not located using uniform measurement units. Thus, geographic CRSs are not ideal for measuring distance. This is why other projected CRS have been developed.\n",
    "\n",
    "![LatLongfromGlobeCenter Source: ESRI](../images/LatLongfromGlobeCenter.gif)\n",
    "\n",
    "A geographic coordinate system locates latitude and longitude location using angles. Thus, the spacing of each line of latitude moving north and south is not uniform. \n",
    "\n",
    "LATITUDE\n",
    "Measures angle between the point and the equator along the meridian.(note: definition does not hold up on an ellipsoid)\n",
    "and has range: -90 degrees (S pole) to +90 degrees (N pole)\n",
    "\n",
    "LONGITUDE\n",
    "Measures the angle on the equatorial plan between the meridian of the point and the central meridian (through Greenwich, England) and has range: -180 degrees (westerly) to +180 degrees (easterly)\n"
   ]
  },
  {
   "cell_type": "markdown",
   "metadata": {},
   "source": [
    "The same data can be viewed in another CRS - Robinson. Robinson is a projected CRS. Notice that the country boundaries on the map - have a different shape compared to the map that we created above in the CRS:\n",
    "Geographic lat/long WGS84."
   ]
  },
  {
   "cell_type": "code",
   "execution_count": null,
   "metadata": {},
   "outputs": [],
   "source": [
    "m = Basemap(projection='robin',lon_0=0,resolution='c')\n",
    "m.drawcoastlines()\n",
    "m.fillcontinents(color='black',lake_color='aqua', zorder=1)\n",
    "\n",
    "m.drawparallels(np.arange(-90.,120.,30.),labels=[1,0,0,0]) \n",
    "m.drawmeridians(np.arange(0.,420.,60.),labels=[0,0,0,1]) \n",
    "m.drawmapboundary(fill_color='aqua',zorder=0)\n",
    "\n",
    "plt.title(\"Global Map: Robinson Projection \\n Units: Degrees - Latitudes/Longitudes\")\n",
    "plt.show()"
   ]
  },
  {
   "cell_type": "markdown",
   "metadata": {},
   "source": [
    "Now let's try to add the same Lat / Long coordinate locations that we used above, to our map, with the CRS of Robinsons"
   ]
  },
  {
   "cell_type": "code",
   "execution_count": null,
   "metadata": {},
   "outputs": [],
   "source": [
    "m = Basemap(projection='robin',lon_0=0,resolution='c')\n",
    "m.drawcoastlines()\n",
    "m.fillcontinents(color='black',lake_color='aqua', zorder=1)\n",
    "\n",
    "m.drawparallels(np.arange(-90.,120.,30.),labels=[1,0,0,0]) \n",
    "m.drawmeridians(np.arange(0.,420.,60.),labels=[0,0,0,1]) \n",
    "m.drawmapboundary(fill_color='aqua',zorder=0)\n",
    "\n",
    "# Add three coordinate locations to our map\n",
    "# Boulder, Colorado:  40.0274, -105.2519\n",
    "# Oslo, Norway: 59.9500, 10.7500\n",
    "# Mallorca, Spain: 39.6167, 2.9833\n",
    "lats = [40.0274, 59.9500, 39.6167]\n",
    "lons = [-105.2519,10.7500,2.9833]\n",
    "plt.scatter(lons,lats,s=100, c='red', zorder=2)\n",
    "\n",
    "plt.title(\"Global Map: Robinson Projection\")\n",
    "plt.show()"
   ]
  },
  {
   "cell_type": "markdown",
   "metadata": {},
   "source": [
    "Notice above that the points are not in the correct location; they are in the lower left corner. As degree coordinates are not what is used for the Robinson projection so they would need to be converted to match the new projection - a process often referred to as re-projection.                        "
   ]
  },
  {
   "cell_type": "code",
   "execution_count": null,
   "metadata": {},
   "outputs": [],
   "source": [
    "m = Basemap(projection='robin',lon_0=0,resolution='c')\n",
    "m.drawcoastlines()\n",
    "m.fillcontinents(color='black',lake_color='aqua', zorder=1)\n",
    "\n",
    "m.drawparallels(np.arange(-90.,120.,30.),labels=[1,0,0,0]) \n",
    "m.drawmeridians(np.arange(0.,420.,60.),labels=[0,0,0,1]) \n",
    "m.drawmapboundary(fill_color='aqua',zorder=0)\n",
    "\n",
    "# Add three coordinate locations to our map\n",
    "# Boulder, Colorado:  40.0274, -105.2519\n",
    "# Oslo, Norway: 59.9500, 10.7500\n",
    "# Mallorca, Spain: 39.6167, 2.9833\n",
    "lats = [40.0274, 59.9500, 39.6167]\n",
    "lons = [-105.2519,10.7500,2.9833]\n",
    "\n",
    "# notice the coordinate system in the Robinson projection (CRS) is DIFFERENT\n",
    "# from the coordinate values for the same locations in a geographic CRS.\n",
    "# Reprojection is very simple in python: \n",
    "x,y = m(lons,lats)\n",
    "print(x)\n",
    "print(y)\n",
    "plt.scatter(x,y,s=100, c='red', zorder=2)\n",
    "plt.title(\"Global Map: Robinson Projection\")\n",
    "plt.show()"
   ]
  },
  {
   "cell_type": "markdown",
   "metadata": {},
   "source": [
    "re-projection can also be done using Geopandas, we will cover this in the next module. "
   ]
  },
  {
   "cell_type": "markdown",
   "metadata": {},
   "source": [
    "## Compare Maps\n",
    "Both of the plots above look visually different and also use a different coordinate system. Let’s look at both, side by side, with the actual graticules or latitude and longitude lines rendered on the map."
   ]
  },
  {
   "cell_type": "code",
   "execution_count": null,
   "metadata": {},
   "outputs": [],
   "source": [
    "fig, axes = plt.subplots(2, 1)\n",
    "\n",
    "# Map 1\n",
    "axes[0].set_title(\"Equidistant Cylindrical Projection (long/lat Degrees)\")\n",
    "m = Basemap(projection='cyl',llcrnrlat=-90,urcrnrlat=90,\\\n",
    "            llcrnrlon=-180,urcrnrlon=180,resolution='c', ax=axes[0])\n",
    "\n",
    "m.drawcoastlines()\n",
    "m.fillcontinents(color='black',lake_color='aqua', zorder = 1)\n",
    "\n",
    "m.drawparallels(np.arange(-90.,91.,10.))\n",
    "m.drawmeridians(np.arange(-180.,181.,10.))\n",
    "m.drawmapboundary(fill_color='aqua', zorder=0)\n",
    "\n",
    "# Add three coordinate locations to our map\n",
    "# Boulder, Colorado:  40.0274, -105.2519\n",
    "# Oslo, Norway: 59.9500, 10.7500\n",
    "# Mallorca, Spain: 39.6167, 2.9833\n",
    "lats = [40.0274, 59.9500, 39.6167]\n",
    "lons = [-105.2519,10.7500,2.9833]\n",
    "\n",
    "axes[0].scatter(lons,lats,s=100, c='red', zorder=2)\n",
    "\n",
    "# Map 2\n",
    "axes[1].set_title(\"Robinson projection (meters)\")\n",
    "\n",
    "m = Basemap(projection='robin',lon_0=0,resolution='c', ax=axes[1])\n",
    "m.drawcoastlines()\n",
    "m.fillcontinents(color='black',lake_color='aqua', zorder=1)\n",
    "\n",
    "m.drawparallels(np.arange(-90.,120.,10.))\n",
    "m.drawmeridians(np.arange(0.,360.,10.))\n",
    "m.drawmapboundary(fill_color='aqua',zorder=0)\n",
    "\n",
    "# Add three coordinate locations to our map\n",
    "# Boulder, Colorado:  40.0274, -105.2519\n",
    "# Oslo, Norway: 59.9500, 10.7500\n",
    "# Mallorca, Spain: 39.6167, 2.9833\n",
    "lats = [40.0274, 59.9500, 39.6167]\n",
    "lons = [-105.2519,10.7500,2.9833]\n",
    "x,y = m(lons,lats)\n",
    "axes[1].scatter(x,y,s=100, c='red', zorder=2)\n",
    "\n",
    "plt.show()"
   ]
  },
  {
   "cell_type": "markdown",
   "metadata": {},
   "source": [
    "## Why Multiple CRS?\n",
    "You may be wondering, why bother with different CRSs if it makes our analysis more complicated? Well, each CRS is optimized to best represent:\n",
    "\n",
    "* Shape and/or\n",
    "* Scale / distance and/or\n",
    "* Area\n",
    "\n",
    "of features in the data. No one CRS is great at optimizing shape, distance AND area. Some CRSs are optimized for shape, some distance, some area. Some CRSs are also optimized for particular regions - for instance the United States, or Europe or Nordic countries. Discussing CRS as it optimizes shape, distance and area is beyond the scope of this module, but it’s important to understand that the CRS that you chose for your data, will impact working with the data!"
   ]
  },
  {
   "cell_type": "markdown",
   "metadata": {},
   "source": [
    "## Conclusion\n",
    "This lab covered:\n",
    "* Coordinate reference system\n",
    "* Reprojection of data using Python"
   ]
  }
 ],
 "metadata": {
  "kernelspec": {
   "display_name": "Python 3",
   "language": "python",
   "name": "python3"
  },
  "language_info": {
   "codemirror_mode": {
    "name": "ipython",
    "version": 3
   },
   "file_extension": ".py",
   "mimetype": "text/x-python",
   "name": "python",
   "nbconvert_exporter": "python",
   "pygments_lexer": "ipython3",
   "version": "3.7.3"
  }
 },
 "nbformat": 4,
 "nbformat_minor": 2
}
