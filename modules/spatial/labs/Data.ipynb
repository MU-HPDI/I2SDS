{
 "cells": [
  {
   "cell_type": "markdown",
   "metadata": {},
   "source": [
    "## Module 1: Geospatial Data\n",
    "In this lab you will learn about 4 different ways Geospatial data is stored: GeoJSON, GeoPandas, PostGIS, and SpatialLite. \n"
   ]
  },
  {
   "cell_type": "markdown",
   "metadata": {},
   "source": [
    "## GeoJSON\n",
    "GeoJSON is a format for representing geographic objects. It is different from regular JSON because it supports geometry types, such as: Point, LineString, Polygon, MultiPoint, MultiLineString, MultiPolygon, and GeometryCollection.\n",
    "\n",
    "![GeoJSON](../images/GeoJSON.png)\n",
    "\n",
    "[GeoJSON Information Sheet](../GeoJSON_Info_Sheet.pdf)"
   ]
  },
  {
   "cell_type": "markdown",
   "metadata": {},
   "source": [
    "## GeoPandas\n",
    "GeoPandas is a Python module used to make working with geospatial data in python easier by extending the datatypes used by the Python module pandas to allow spatial operations on geometric types.\n",
    "\n",
    "Typically, GeoPandas is used to read GeoJSON data into a DataFrame\n",
    "\n",
    "Let's quickly load some GeoJSON and see a plot. GRL.geo.json is data for a polygon of Greenland."
   ]
  },
  {
   "cell_type": "code",
   "execution_count": null,
   "metadata": {},
   "outputs": [],
   "source": [
    "import geopandas as gpd\n",
    "%matplotlib inline\n",
    "\n",
    "df = gpd.read_file(\"../data/GRL.geo.json\")\n",
    "\n",
    "print(type(df))\n",
    "\n",
    "df\n",
    "\n",
    "df.plot()"
   ]
  },
  {
   "cell_type": "markdown",
   "metadata": {},
   "source": [
    "#### Re-projecting data using geopandas\n",
    "Notice that Greenland is displayed rather large and distorted. We can fix this! \n"
   ]
  },
  {
   "cell_type": "code",
   "execution_count": null,
   "metadata": {},
   "outputs": [],
   "source": [
    "print(df.crs)\n",
    "\n",
    "df = df.to_crs({'init': 'epsg:3395'})\n",
    "print(df.crs)\n",
    "\n",
    "df.plot()"
   ]
  },
  {
   "cell_type": "markdown",
   "metadata": {},
   "source": [
    "Here is a [GeoPandas Information Sheet](../GeoPandasInfoSheet.pdf)"
   ]
  },
  {
   "cell_type": "markdown",
   "metadata": {},
   "source": [
    "## Conclusion\n",
    "This lab covered:\n",
    "* Four ways of storing geospatial data"
   ]
  }
 ],
 "metadata": {
  "kernelspec": {
   "display_name": "Python 3",
   "language": "python",
   "name": "python3"
  },
  "language_info": {
   "codemirror_mode": {
    "name": "ipython",
    "version": 3
   },
   "file_extension": ".py",
   "mimetype": "text/x-python",
   "name": "python",
   "nbconvert_exporter": "python",
   "pygments_lexer": "ipython3",
   "version": "3.7.3"
  }
 },
 "nbformat": 4,
 "nbformat_minor": 2
}
