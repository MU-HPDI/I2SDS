{
 "cells": [
  {
   "cell_type": "markdown",
   "metadata": {},
   "source": [
    "# Schedule for Module 4: \n",
    "## Introduction to SQL and Database Technologies\n"
   ]
  },
  {
   "cell_type": "markdown",
   "metadata": {},
   "source": [
    "----\n",
    "\n",
    "## Topics covered\n",
    "- Introduction to `SQL`\n",
    "- Loading Data\n",
    "- Querying Data \n",
    "- `SQL` with `Python`\n"
   ]
  },
  {
   "cell_type": "markdown",
   "metadata": {},
   "source": [
    "## Objective\n",
    "- Students will become familiar the basic SQL environment and learn to perform data loading and simple querying\n"
   ]
  },
  {
   "cell_type": "markdown",
   "metadata": {},
   "source": [
    "## Videos\n",
    "- [SQL and Big Data Ecosystems](https://youtu.be/-K34RVJA8as)   \n",
    "    - [Slide Deck](resources/SQL_and_BigDataEcosystems.pdf)"
   ]
  },
  {
   "cell_type": "markdown",
   "metadata": {},
   "source": [
    "## Labs, Practices and Exercises\n",
    "\n",
    "### Labs\n",
    " 1. [Introduction to SQL](labs/sql_intro.ipynb)\n",
    " 1. [Database Loading](labs/database_loading.ipynb)   \n",
    "\n",
    "\n",
    "### Practices\n",
    " 1. [Practicing SQL](practices/practice_sql.ipynb)\n",
    "     * [Answers](answers/practice_sql.ipynb)\n",
    "\n",
    "\n",
    " 2. [World Bank mini-analysis SQL Practice](practices/WBSQL_practice.ipynb)\n",
    "     * [Answers](answers/WBSQL_practice.ipynb)\n",
    "\n",
    "### Exercises (optional)\n",
    " 1. [SQL Exercises](exercises/sql_exercise.ipynb)\n",
    " \n"
   ]
  },
  {
   "cell_type": "markdown",
   "metadata": {},
   "source": [
    "\n",
    "## Data Sets\n",
    "Path: `/dsa/data/all_datasets/`\n",
    "\n",
    "Dataset Name    | File\n",
    "----------------|------------\n",
    "MLB Players     | `baseball-databank/data/Master.csv`\n",
    "MLB Teams       | `baseball-databank/data/Teams.csv`\n",
    "MLB Batting     | `baseball-databank/data/Batting.csv`\n"
   ]
  }
 ],
 "metadata": {
  "kernelspec": {
   "display_name": "Python 3",
   "language": "python",
   "name": "python3"
  },
  "language_info": {
   "codemirror_mode": {
    "name": "ipython",
    "version": 3
   },
   "file_extension": ".py",
   "mimetype": "text/x-python",
   "name": "python",
   "nbconvert_exporter": "python",
   "pygments_lexer": "ipython3",
   "version": "3.7.3"
  }
 },
 "nbformat": 4,
 "nbformat_minor": 1
}
